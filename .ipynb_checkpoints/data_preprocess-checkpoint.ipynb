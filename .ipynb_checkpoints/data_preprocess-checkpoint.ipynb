{
 "cells": [
  {
   "cell_type": "code",
   "execution_count": 1,
   "id": "6a2eb3bf",
   "metadata": {},
   "outputs": [],
   "source": [
    "import pandas as pd\n",
    "from sklearn.cluster import KMeans\n",
    "from sklearn.model_selection import train_test_split"
   ]
  },
  {
   "cell_type": "markdown",
   "id": "c9afb0ee",
   "metadata": {},
   "source": [
    "# Preprocess Data"
   ]
  },
  {
   "cell_type": "code",
   "execution_count": 2,
   "id": "9345f3f9",
   "metadata": {},
   "outputs": [
    {
     "data": {
      "text/html": [
       "<div>\n",
       "<style scoped>\n",
       "    .dataframe tbody tr th:only-of-type {\n",
       "        vertical-align: middle;\n",
       "    }\n",
       "\n",
       "    .dataframe tbody tr th {\n",
       "        vertical-align: top;\n",
       "    }\n",
       "\n",
       "    .dataframe thead th {\n",
       "        text-align: right;\n",
       "    }\n",
       "</style>\n",
       "<table border=\"1\" class=\"dataframe\">\n",
       "  <thead>\n",
       "    <tr style=\"text-align: right;\">\n",
       "      <th></th>\n",
       "      <th>user_id</th>\n",
       "      <th>other_id</th>\n",
       "      <th>trust</th>\n",
       "      <th>CREATION</th>\n",
       "    </tr>\n",
       "  </thead>\n",
       "  <tbody>\n",
       "    <tr>\n",
       "      <th>0</th>\n",
       "      <td>3287060356</td>\n",
       "      <td>232085</td>\n",
       "      <td>-1</td>\n",
       "      <td>2001/01/10</td>\n",
       "    </tr>\n",
       "    <tr>\n",
       "      <th>1</th>\n",
       "      <td>3288305540</td>\n",
       "      <td>709420</td>\n",
       "      <td>1</td>\n",
       "      <td>2001/01/10</td>\n",
       "    </tr>\n",
       "    <tr>\n",
       "      <th>2</th>\n",
       "      <td>3290337156</td>\n",
       "      <td>204418</td>\n",
       "      <td>-1</td>\n",
       "      <td>2001/01/10</td>\n",
       "    </tr>\n",
       "    <tr>\n",
       "      <th>3</th>\n",
       "      <td>3294138244</td>\n",
       "      <td>269243</td>\n",
       "      <td>-1</td>\n",
       "      <td>2001/01/10</td>\n",
       "    </tr>\n",
       "    <tr>\n",
       "      <th>4</th>\n",
       "      <td>3294138244</td>\n",
       "      <td>170692484</td>\n",
       "      <td>-1</td>\n",
       "      <td>2001/01/10</td>\n",
       "    </tr>\n",
       "  </tbody>\n",
       "</table>\n",
       "</div>"
      ],
      "text/plain": [
       "      user_id   other_id  trust    CREATION\n",
       "0  3287060356     232085     -1  2001/01/10\n",
       "1  3288305540     709420      1  2001/01/10\n",
       "2  3290337156     204418     -1  2001/01/10\n",
       "3  3294138244     269243     -1  2001/01/10\n",
       "4  3294138244  170692484     -1  2001/01/10"
      ]
     },
     "execution_count": 2,
     "metadata": {},
     "output_type": "execute_result"
    }
   ],
   "source": [
    "user_rating = pd.read_csv('raw_data/user_rating.txt', sep='\\t', names=['user_id', 'other_id', 'trust', 'CREATION'])\n",
    "user_rating.head()\n"
   ]
  },
  {
   "cell_type": "code",
   "execution_count": 3,
   "id": "94f43eec",
   "metadata": {},
   "outputs": [],
   "source": [
    "#drop useless columns\n",
    "user_rating = user_rating.drop(columns = ['CREATION'],axis = 1)"
   ]
  },
  {
   "cell_type": "code",
   "execution_count": 4,
   "id": "95b79748",
   "metadata": {},
   "outputs": [
    {
     "data": {
      "text/html": [
       "<div>\n",
       "<style scoped>\n",
       "    .dataframe tbody tr th:only-of-type {\n",
       "        vertical-align: middle;\n",
       "    }\n",
       "\n",
       "    .dataframe tbody tr th {\n",
       "        vertical-align: top;\n",
       "    }\n",
       "\n",
       "    .dataframe thead th {\n",
       "        text-align: right;\n",
       "    }\n",
       "</style>\n",
       "<table border=\"1\" class=\"dataframe\">\n",
       "  <thead>\n",
       "    <tr style=\"text-align: right;\">\n",
       "      <th></th>\n",
       "      <th>item_id</th>\n",
       "      <th>creater_id</th>\n",
       "      <th>subject</th>\n",
       "    </tr>\n",
       "  </thead>\n",
       "  <tbody>\n",
       "    <tr>\n",
       "      <th>0</th>\n",
       "      <td>1445594</td>\n",
       "      <td>718357</td>\n",
       "      <td>1.490024e+11</td>\n",
       "    </tr>\n",
       "    <tr>\n",
       "      <th>1</th>\n",
       "      <td>1445595</td>\n",
       "      <td>220568</td>\n",
       "      <td>1.490036e+11</td>\n",
       "    </tr>\n",
       "    <tr>\n",
       "      <th>2</th>\n",
       "      <td>1445596</td>\n",
       "      <td>717325</td>\n",
       "      <td>5.303145e+09</td>\n",
       "    </tr>\n",
       "    <tr>\n",
       "      <th>3</th>\n",
       "      <td>1445597</td>\n",
       "      <td>360156</td>\n",
       "      <td>1.926209e+11</td>\n",
       "    </tr>\n",
       "    <tr>\n",
       "      <th>4</th>\n",
       "      <td>1445598</td>\n",
       "      <td>718857</td>\n",
       "      <td>1.490022e+11</td>\n",
       "    </tr>\n",
       "  </tbody>\n",
       "</table>\n",
       "</div>"
      ],
      "text/plain": [
       "   item_id  creater_id       subject\n",
       "0  1445594      718357  1.490024e+11\n",
       "1  1445595      220568  1.490036e+11\n",
       "2  1445596      717325  5.303145e+09\n",
       "3  1445597      360156  1.926209e+11\n",
       "4  1445598      718857  1.490022e+11"
      ]
     },
     "execution_count": 4,
     "metadata": {},
     "output_type": "execute_result"
    }
   ],
   "source": [
    "mc = pd.read_csv('raw_data/mc.txt', sep='|', names=['item_id', 'creater_id', 'subject'])\n",
    "mc.head()"
   ]
  },
  {
   "cell_type": "code",
   "execution_count": 5,
   "id": "6f6b6c1c",
   "metadata": {},
   "outputs": [],
   "source": [
    "mc = mc.drop(columns = ['creater_id'],axis = 1)"
   ]
  },
  {
   "cell_type": "code",
   "execution_count": 6,
   "id": "b9c6467d",
   "metadata": {},
   "outputs": [
    {
     "data": {
      "text/html": [
       "<div>\n",
       "<style scoped>\n",
       "    .dataframe tbody tr th:only-of-type {\n",
       "        vertical-align: middle;\n",
       "    }\n",
       "\n",
       "    .dataframe tbody tr th {\n",
       "        vertical-align: top;\n",
       "    }\n",
       "\n",
       "    .dataframe thead th {\n",
       "        text-align: right;\n",
       "    }\n",
       "</style>\n",
       "<table border=\"1\" class=\"dataframe\">\n",
       "  <thead>\n",
       "    <tr style=\"text-align: right;\">\n",
       "      <th></th>\n",
       "      <th>item_id</th>\n",
       "      <th>user_id</th>\n",
       "      <th>rating</th>\n",
       "      <th>status</th>\n",
       "      <th>CREATION</th>\n",
       "      <th>LAST_MODIFIED</th>\n",
       "      <th>TYPE</th>\n",
       "      <th>VERTICAL_ID</th>\n",
       "    </tr>\n",
       "  </thead>\n",
       "  <tbody>\n",
       "    <tr>\n",
       "      <th>0</th>\n",
       "      <td>139431556</td>\n",
       "      <td>591156</td>\n",
       "      <td>5</td>\n",
       "      <td>0</td>\n",
       "      <td>2001/01/10</td>\n",
       "      <td>NaN</td>\n",
       "      <td>1</td>\n",
       "      <td>2518365.0</td>\n",
       "    </tr>\n",
       "    <tr>\n",
       "      <th>1</th>\n",
       "      <td>139431556</td>\n",
       "      <td>1312460676</td>\n",
       "      <td>5</td>\n",
       "      <td>0</td>\n",
       "      <td>2001/01/10</td>\n",
       "      <td>NaN</td>\n",
       "      <td>1</td>\n",
       "      <td>2518365.0</td>\n",
       "    </tr>\n",
       "    <tr>\n",
       "      <th>2</th>\n",
       "      <td>139431556</td>\n",
       "      <td>204358</td>\n",
       "      <td>5</td>\n",
       "      <td>0</td>\n",
       "      <td>2001/01/10</td>\n",
       "      <td>NaN</td>\n",
       "      <td>1</td>\n",
       "      <td>2518365.0</td>\n",
       "    </tr>\n",
       "    <tr>\n",
       "      <th>3</th>\n",
       "      <td>139431556</td>\n",
       "      <td>368725</td>\n",
       "      <td>5</td>\n",
       "      <td>0</td>\n",
       "      <td>2001/01/10</td>\n",
       "      <td>NaN</td>\n",
       "      <td>1</td>\n",
       "      <td>2518365.0</td>\n",
       "    </tr>\n",
       "    <tr>\n",
       "      <th>4</th>\n",
       "      <td>139431556</td>\n",
       "      <td>277629</td>\n",
       "      <td>5</td>\n",
       "      <td>0</td>\n",
       "      <td>2001/01/10</td>\n",
       "      <td>NaN</td>\n",
       "      <td>1</td>\n",
       "      <td>2518365.0</td>\n",
       "    </tr>\n",
       "    <tr>\n",
       "      <th>...</th>\n",
       "      <td>...</td>\n",
       "      <td>...</td>\n",
       "      <td>...</td>\n",
       "      <td>...</td>\n",
       "      <td>...</td>\n",
       "      <td>...</td>\n",
       "      <td>...</td>\n",
       "      <td>...</td>\n",
       "    </tr>\n",
       "    <tr>\n",
       "      <th>13668315</th>\n",
       "      <td>891503</td>\n",
       "      <td>311238</td>\n",
       "      <td>5</td>\n",
       "      <td>0</td>\n",
       "      <td>2001/01/10</td>\n",
       "      <td>2001/12/27</td>\n",
       "      <td>1</td>\n",
       "      <td>2522499.0</td>\n",
       "    </tr>\n",
       "    <tr>\n",
       "      <th>13668316</th>\n",
       "      <td>891503</td>\n",
       "      <td>210412</td>\n",
       "      <td>5</td>\n",
       "      <td>0</td>\n",
       "      <td>2001/01/10</td>\n",
       "      <td>2001/12/27</td>\n",
       "      <td>1</td>\n",
       "      <td>2522499.0</td>\n",
       "    </tr>\n",
       "    <tr>\n",
       "      <th>13668317</th>\n",
       "      <td>891503</td>\n",
       "      <td>351471</td>\n",
       "      <td>5</td>\n",
       "      <td>0</td>\n",
       "      <td>2001/01/10</td>\n",
       "      <td>2001/12/27</td>\n",
       "      <td>1</td>\n",
       "      <td>2522499.0</td>\n",
       "    </tr>\n",
       "    <tr>\n",
       "      <th>13668318</th>\n",
       "      <td>891503</td>\n",
       "      <td>394639</td>\n",
       "      <td>5</td>\n",
       "      <td>0</td>\n",
       "      <td>2001/01/10</td>\n",
       "      <td>2001/12/27</td>\n",
       "      <td>1</td>\n",
       "      <td>2522499.0</td>\n",
       "    </tr>\n",
       "    <tr>\n",
       "      <th>13668319</th>\n",
       "      <td>891503</td>\n",
       "      <td>200338</td>\n",
       "      <td>4</td>\n",
       "      <td>0</td>\n",
       "      <td>2001/01/10</td>\n",
       "      <td>2001/12/27</td>\n",
       "      <td>1</td>\n",
       "      <td>NaN</td>\n",
       "    </tr>\n",
       "  </tbody>\n",
       "</table>\n",
       "<p>13668320 rows × 8 columns</p>\n",
       "</div>"
      ],
      "text/plain": [
       "            item_id     user_id  rating  status    CREATION LAST_MODIFIED  \\\n",
       "0         139431556      591156       5       0  2001/01/10           NaN   \n",
       "1         139431556  1312460676       5       0  2001/01/10           NaN   \n",
       "2         139431556      204358       5       0  2001/01/10           NaN   \n",
       "3         139431556      368725       5       0  2001/01/10           NaN   \n",
       "4         139431556      277629       5       0  2001/01/10           NaN   \n",
       "...             ...         ...     ...     ...         ...           ...   \n",
       "13668315     891503      311238       5       0  2001/01/10    2001/12/27   \n",
       "13668316     891503      210412       5       0  2001/01/10    2001/12/27   \n",
       "13668317     891503      351471       5       0  2001/01/10    2001/12/27   \n",
       "13668318     891503      394639       5       0  2001/01/10    2001/12/27   \n",
       "13668319     891503      200338       4       0  2001/01/10    2001/12/27   \n",
       "\n",
       "          TYPE  VERTICAL_ID  \n",
       "0            1    2518365.0  \n",
       "1            1    2518365.0  \n",
       "2            1    2518365.0  \n",
       "3            1    2518365.0  \n",
       "4            1    2518365.0  \n",
       "...        ...          ...  \n",
       "13668315     1    2522499.0  \n",
       "13668316     1    2522499.0  \n",
       "13668317     1    2522499.0  \n",
       "13668318     1    2522499.0  \n",
       "13668319     1          NaN  \n",
       "\n",
       "[13668320 rows x 8 columns]"
      ]
     },
     "execution_count": 6,
     "metadata": {},
     "output_type": "execute_result"
    }
   ],
   "source": [
    "rating = pd.read_csv('raw_data/rating.txt', sep='\\t', names=['item_id', 'user_id', 'rating','status','CREATION','LAST_MODIFIED','TYPE','VERTICAL_ID'])\n",
    "rating"
   ]
  },
  {
   "cell_type": "code",
   "execution_count": 7,
   "id": "00fa1786",
   "metadata": {},
   "outputs": [],
   "source": [
    "rating = rating.drop(columns = ['CREATION','LAST_MODIFIED','TYPE','VERTICAL_ID'],axis = 1)"
   ]
  },
  {
   "cell_type": "code",
   "execution_count": 8,
   "id": "0946863d",
   "metadata": {},
   "outputs": [],
   "source": [
    "#only keep data whose rating is greater than 3\n",
    "filtered_rating = rating[rating['rating'] > 3]\n"
   ]
  },
  {
   "cell_type": "code",
   "execution_count": 9,
   "id": "5390a04b",
   "metadata": {},
   "outputs": [
    {
     "data": {
      "text/html": [
       "<div>\n",
       "<style scoped>\n",
       "    .dataframe tbody tr th:only-of-type {\n",
       "        vertical-align: middle;\n",
       "    }\n",
       "\n",
       "    .dataframe tbody tr th {\n",
       "        vertical-align: top;\n",
       "    }\n",
       "\n",
       "    .dataframe thead th {\n",
       "        text-align: right;\n",
       "    }\n",
       "</style>\n",
       "<table border=\"1\" class=\"dataframe\">\n",
       "  <thead>\n",
       "    <tr style=\"text-align: right;\">\n",
       "      <th></th>\n",
       "      <th>item_id</th>\n",
       "      <th>user_id</th>\n",
       "      <th>rating</th>\n",
       "      <th>status</th>\n",
       "      <th>subject</th>\n",
       "    </tr>\n",
       "  </thead>\n",
       "  <tbody>\n",
       "    <tr>\n",
       "      <th>0</th>\n",
       "      <td>139431556</td>\n",
       "      <td>591156</td>\n",
       "      <td>5</td>\n",
       "      <td>0</td>\n",
       "      <td>3.357800e+04</td>\n",
       "    </tr>\n",
       "    <tr>\n",
       "      <th>1</th>\n",
       "      <td>139431556</td>\n",
       "      <td>1312460676</td>\n",
       "      <td>5</td>\n",
       "      <td>0</td>\n",
       "      <td>3.357800e+04</td>\n",
       "    </tr>\n",
       "    <tr>\n",
       "      <th>2</th>\n",
       "      <td>139431556</td>\n",
       "      <td>204358</td>\n",
       "      <td>5</td>\n",
       "      <td>0</td>\n",
       "      <td>3.357800e+04</td>\n",
       "    </tr>\n",
       "    <tr>\n",
       "      <th>3</th>\n",
       "      <td>139431556</td>\n",
       "      <td>368725</td>\n",
       "      <td>5</td>\n",
       "      <td>0</td>\n",
       "      <td>3.357800e+04</td>\n",
       "    </tr>\n",
       "    <tr>\n",
       "      <th>4</th>\n",
       "      <td>139431556</td>\n",
       "      <td>277629</td>\n",
       "      <td>5</td>\n",
       "      <td>0</td>\n",
       "      <td>3.357800e+04</td>\n",
       "    </tr>\n",
       "    <tr>\n",
       "      <th>...</th>\n",
       "      <td>...</td>\n",
       "      <td>...</td>\n",
       "      <td>...</td>\n",
       "      <td>...</td>\n",
       "      <td>...</td>\n",
       "    </tr>\n",
       "    <tr>\n",
       "      <th>12581743</th>\n",
       "      <td>891503</td>\n",
       "      <td>311238</td>\n",
       "      <td>5</td>\n",
       "      <td>0</td>\n",
       "      <td>3.423066e+11</td>\n",
       "    </tr>\n",
       "    <tr>\n",
       "      <th>12581744</th>\n",
       "      <td>891503</td>\n",
       "      <td>210412</td>\n",
       "      <td>5</td>\n",
       "      <td>0</td>\n",
       "      <td>3.423066e+11</td>\n",
       "    </tr>\n",
       "    <tr>\n",
       "      <th>12581745</th>\n",
       "      <td>891503</td>\n",
       "      <td>351471</td>\n",
       "      <td>5</td>\n",
       "      <td>0</td>\n",
       "      <td>3.423066e+11</td>\n",
       "    </tr>\n",
       "    <tr>\n",
       "      <th>12581746</th>\n",
       "      <td>891503</td>\n",
       "      <td>394639</td>\n",
       "      <td>5</td>\n",
       "      <td>0</td>\n",
       "      <td>3.423066e+11</td>\n",
       "    </tr>\n",
       "    <tr>\n",
       "      <th>12581747</th>\n",
       "      <td>891503</td>\n",
       "      <td>200338</td>\n",
       "      <td>4</td>\n",
       "      <td>0</td>\n",
       "      <td>3.423066e+11</td>\n",
       "    </tr>\n",
       "  </tbody>\n",
       "</table>\n",
       "<p>12581748 rows × 5 columns</p>\n",
       "</div>"
      ],
      "text/plain": [
       "            item_id     user_id  rating  status       subject\n",
       "0         139431556      591156       5       0  3.357800e+04\n",
       "1         139431556  1312460676       5       0  3.357800e+04\n",
       "2         139431556      204358       5       0  3.357800e+04\n",
       "3         139431556      368725       5       0  3.357800e+04\n",
       "4         139431556      277629       5       0  3.357800e+04\n",
       "...             ...         ...     ...     ...           ...\n",
       "12581743     891503      311238       5       0  3.423066e+11\n",
       "12581744     891503      210412       5       0  3.423066e+11\n",
       "12581745     891503      351471       5       0  3.423066e+11\n",
       "12581746     891503      394639       5       0  3.423066e+11\n",
       "12581747     891503      200338       4       0  3.423066e+11\n",
       "\n",
       "[12581748 rows x 5 columns]"
      ]
     },
     "execution_count": 9,
     "metadata": {},
     "output_type": "execute_result"
    }
   ],
   "source": [
    "#left join with mc data\n",
    "joined = pd.merge(filtered_rating,mc,on = 'item_id',how = 'left')\n",
    "joined"
   ]
  },
  {
   "cell_type": "code",
   "execution_count": 10,
   "id": "be8129b4",
   "metadata": {},
   "outputs": [
    {
     "data": {
      "text/plain": [
       "6.854272e+06    229086\n",
       "5.262271e+08    164992\n",
       "4.623950e+08    128444\n",
       "1.490041e+11     77245\n",
       "7.640704e+06     57072\n",
       "                 ...  \n",
       "1.624170e+05         1\n",
       "7.636400e+04         1\n",
       "1.625060e+05         1\n",
       "1.589020e+05         1\n",
       "6.691788e+09         1\n",
       "Name: subject, Length: 109758, dtype: int64"
      ]
     },
     "execution_count": 10,
     "metadata": {},
     "output_type": "execute_result"
    }
   ],
   "source": [
    "joined['subject'].value_counts()"
   ]
  },
  {
   "cell_type": "code",
   "execution_count": null,
   "id": "d531821e",
   "metadata": {},
   "outputs": [
    {
     "name": "stderr",
     "output_type": "stream",
     "text": [
      "/usr/local/lib/python3.10/dist-packages/sklearn/cluster/_kmeans.py:870: FutureWarning: The default value of `n_init` will change from 10 to 'auto' in 1.4. Set the value of `n_init` explicitly to suppress the warning\n",
      "  warnings.warn(\n"
     ]
    }
   ],
   "source": [
    "#use kmeans to cluster subjects into 6 topics\n",
    "kmeans = KMeans(n_clusters=6)  \n",
    "joined = joined.dropna()\n",
    "kmeans.fit(joined[['subject']])\n",
    "joined['topic'] = kmeans.labels_\n",
    "print(joined)"
   ]
  },
  {
   "cell_type": "code",
   "execution_count": null,
   "id": "c7e01e84",
   "metadata": {},
   "outputs": [],
   "source": [
    "#get random sample according to the ratio of each topic\n",
    "class_counts = joined['topic'].value_counts() \n",
    "class_ratios = class_counts / len(joined) \n",
    "target_samples_per_class = (class_ratios * 1170000).astype(int) \n",
    "sampled_data = pd.concat([joined[joined['topic'] == topic].sample(target_samples_per_class[topic], replace=True) for topic in joined['topic'].unique()]).reset_index() \n",
    "sampled_data"
   ]
  },
  {
   "cell_type": "code",
   "execution_count": null,
   "id": "faf78098",
   "metadata": {},
   "outputs": [],
   "source": [
    "#data who adopt the 10-core filtering setting(items emerge more than 10 times and user emerges more than 10 times)\n",
    "item_id_counts = sampled_data['item_id'].value_counts()\n",
    "item_id_gt_10 = item_id_counts[item_id_counts > 10].index.tolist()\n",
    "sampled_data = sampled_data[sampled_data['item_id'].isin(item_id_gt_10)]\n",
    "\n",
    "user_id_counts = sampled_data['user_id'].value_counts()\n",
    "user_id_gt_10 = user_id_counts[user_id_counts > 10].index.tolist()\n",
    "sampled_data = sampled_data[sampled_data['user_id'].isin(user_id_gt_10)]\n",
    "sampled_data['user_id'].unique().shape"
   ]
  },
  {
   "cell_type": "code",
   "execution_count": null,
   "id": "b998d425",
   "metadata": {},
   "outputs": [],
   "source": [
    "fan=user_rating[user_rating['trust']==1]\n",
    "fan_count=fan.groupby('user_id')['trust'].count()\n",
    "for user_id,fanc in fan_count.items():\n",
    "    if user_id in sampled_data['user_id'].values:\n",
    "        sampled_data.loc[sampled_data['user_id'] == user_id, 'fan_count'] = fanc"
   ]
  },
  {
   "cell_type": "code",
   "execution_count": null,
   "id": "f1410b72",
   "metadata": {},
   "outputs": [],
   "source": [
    "sampled_data['fan_count']=sampled_data['fan_count'].fillna(0)"
   ]
  },
  {
   "cell_type": "code",
   "execution_count": null,
   "id": "14637a13",
   "metadata": {},
   "outputs": [],
   "source": [
    "#generate new id for users\n",
    "unique_ids = sampled_data['user_id'].unique()\n",
    "id_mapping = {id: idx for idx, id in enumerate(unique_ids)}\n",
    "sampled_data['user_id'] = sampled_data['user_id'].map(id_mapping)\n",
    "sampled_data['user_id'].unique()"
   ]
  },
  {
   "cell_type": "code",
   "execution_count": null,
   "id": "5717935d",
   "metadata": {},
   "outputs": [],
   "source": [
    "#generate new id for items\n",
    "unique_ids = sampled_data['item_id'].unique()\n",
    "id_mapping = {id: idx for idx, id in enumerate(unique_ids)}\n",
    "sampled_data['item_id'] = sampled_data['item_id'].map(id_mapping)\n",
    "sampled_data['item_id'].unique()"
   ]
  },
  {
   "cell_type": "code",
   "execution_count": null,
   "id": "62ca17e8",
   "metadata": {},
   "outputs": [],
   "source": [
    "# split into train set, validation set and test set according to the ratio 6:2:2\n",
    "def sample_data(df):\n",
    "    grouped_data = df.groupby('user_id')\n",
    "    sampled_data = grouped_data.apply(lambda x: x.sample(n=1))\n",
    "    sampled_data.reset_index(drop=True, inplace=True)\n",
    "    remaining_data = df.merge( sampled_data, indicator=True, how='outer').loc[lambda x: x['_merge'] == 'left_only']\n",
    "    remaining_data.drop(columns='_merge', inplace=True)\n",
    "    additional_samples = remaining_data.sample(n=120000, random_state=42)\n",
    "    sampled_data = pd.concat([sampled_data, additional_samples], ignore_index=True)\n",
    "    sampled_data.reset_index(drop=True, inplace=True)\n",
    "    return sampled_data.drop('index',axis=1)\n",
    "def remove_train_data(sampled_data, train_data):\n",
    "    remaining_data = sampled_data.merge(train_data, indicator=True, how='outer').loc[lambda x: x['_merge'] == 'left_only']\n",
    "    remaining_data.drop(columns='_merge', inplace=True)  \n",
    "    return remaining_data.drop('index',axis=1)\n",
    "\n",
    "train_data = sample_data(sampled_data)\n",
    "temp_data = remove_train_data(sampled_data, train_data)\n",
    "val_data, test_data = train_test_split(temp_data, test_size=0.5, random_state=42)"
   ]
  },
  {
   "cell_type": "markdown",
   "id": "c1224f8e",
   "metadata": {},
   "source": [
    "## Extract features of Recommender System"
   ]
  },
  {
   "cell_type": "code",
   "execution_count": null,
   "id": "0dab15f1",
   "metadata": {},
   "outputs": [],
   "source": [
    "unique_item=sampled_data['item_id'].unique()\n",
    "category_item_dict={}\n",
    "for i in unique_item:\n",
    "    topic = sampled_data[sampled_data['item_id'] == i]['topic'].iloc[0]\n",
    "    if topic in category_item_dict:\n",
    "        category_item_dict[topic].append(i)\n",
    "    else:\n",
    "        category_item_dict[topic] = [i]\n",
    "len(category_item_dict)\n"
   ]
  },
  {
   "cell_type": "code",
   "execution_count": null,
   "id": "672a81e6",
   "metadata": {},
   "outputs": [],
   "source": [
    "category_num_dict={}\n",
    "for k in category_item_dict.keys():\n",
    "    category_num_dict[k]=len(category_item_dict[k])\n",
    "category_num_dict\n"
   ]
  },
  {
   "cell_type": "markdown",
   "id": "5471218b",
   "metadata": {},
   "source": [
    "\n",
    "If we obtain data using this method, we observe that our dataset exhibits greater imbalance among items compared to the dataset described in the paper."
   ]
  },
  {
   "cell_type": "code",
   "execution_count": null,
   "id": "bf8b5c92",
   "metadata": {},
   "outputs": [],
   "source": [
    "item_categories_list=sampled_data['topic'].tolist()"
   ]
  },
  {
   "cell_type": "code",
   "execution_count": null,
   "id": "3cbcd467",
   "metadata": {},
   "outputs": [],
   "source": [
    "test_dict={}\n",
    "grouped_test=test_data.groupby('user_id')['item_id'].apply(lambda x: list(x))\n",
    "\n",
    "for user_id, item_ids in grouped_test.items():\n",
    "    test_dict[user_id]=item_ids\n",
    "len(test_dict)"
   ]
  },
  {
   "cell_type": "code",
   "execution_count": null,
   "id": "7c716c2a",
   "metadata": {},
   "outputs": [],
   "source": [
    "train_dict={}\n",
    "grouped_train=train_data.groupby('user_id')['item_id'].apply(lambda x: list(x))\n",
    "\n",
    "for user_id, item_ids in grouped_train.items():\n",
    "    train_dict[user_id]=item_ids\n"
   ]
  },
  {
   "cell_type": "code",
   "execution_count": null,
   "id": "d8ef11c0",
   "metadata": {},
   "outputs": [],
   "source": [
    "a=[]\n",
    "for i in range(len(train_dict)):\n",
    "    a.append(len(train_dict[i]))\n",
    "max(a)"
   ]
  },
  {
   "cell_type": "code",
   "execution_count": null,
   "id": "3e8141d1",
   "metadata": {},
   "outputs": [],
   "source": [
    "val_dict={}\n",
    "grouped_val=val_data.groupby('user_id')['item_id'].apply(lambda x: list(x))\n",
    "\n",
    "for user_id, item_ids in grouped_val.items():\n",
    "    val_dict[user_id]=item_ids\n",
    "val_dict"
   ]
  },
  {
   "cell_type": "code",
   "execution_count": null,
   "id": "00bedb2d",
   "metadata": {},
   "outputs": [],
   "source": [
    "#use number of other_id's trust relationship to count the social utility\n",
    "user_num_fans_list=train_data['fan_count'].apply(lambda x:int(x)).to_list()\n",
    "user_num_fans_list\n",
    "        "
   ]
  },
  {
   "cell_type": "code",
   "execution_count": null,
   "id": "fa2fc5a8",
   "metadata": {},
   "outputs": [],
   "source": [
    "import pickle\n",
    "with open('nips23_social_igf/data/Epinions/category_item_dict.pkl', 'wb') as f:\n",
    "    pickle.dump(category_item_dict, f)\n",
    "with open('nips23_social_igf/data/Epinions/category_num_dict.pkl', 'wb') as f:\n",
    "    pickle.dump(category_num_dict, f)\n",
    "with open('nips23_social_igf/data/Epinions/item_categories_list.pkl', 'wb') as f:\n",
    "    pickle.dump(item_categories_list, f)\n",
    "with open('nips23_social_igf/data/Epinions/test_dict.pkl', 'wb') as f:\n",
    "    pickle.dump(test_dict, f)\n",
    "with open('nips23_social_igf/data/Epinions/train_dict.pkl', 'wb') as f:\n",
    "    pickle.dump(train_dict, f)\n",
    "with open('nips23_social_igf/data/Epinions/val_dict.pkl', 'wb') as f:\n",
    "    pickle.dump(val_dict, f)\n",
    "with open('nips23_social_igf/data/Epinions/user_num_fans_list.pkl', 'wb') as f:\n",
    "    pickle.dump(user_num_fans_list, f)"
   ]
  },
  {
   "cell_type": "code",
   "execution_count": 3,
   "id": "e0d4e863",
   "metadata": {},
   "outputs": [
    {
     "data": {
      "text/plain": [
       "dict_keys([3, 5, 4, 10, 19, 18])"
      ]
     },
     "execution_count": 3,
     "metadata": {},
     "output_type": "execute_result"
    }
   ],
   "source": [
    "import pickle\n",
    "import pandas as pd\n",
    "\n",
    "# 假设你有一个名为 'data.pkl' 的文件\n",
    "with open('data/Epinions/category_item_dict.pkl', 'rb') as file:\n",
    "    data = pickle.load(file)\n",
    "\n",
    "data.keys()"
   ]
  },
  {
   "cell_type": "code",
   "execution_count": 2,
   "id": "03a8c914",
   "metadata": {},
   "outputs": [
    {
     "data": {
      "text/plain": [
       "defaultdict(int, {3: 3994, 5: 2635, 4: 2023, 10: 1613, 19: 1987, 18: 1430})"
      ]
     },
     "execution_count": 2,
     "metadata": {},
     "output_type": "execute_result"
    }
   ],
   "source": [
    "import pickle\n",
    "import pandas as pd\n",
    "\n",
    "# 假设你有一个名为 'data.pkl' 的文件\n",
    "with open('data/Epinions/category_num_dict.pkl', 'rb') as file:\n",
    "    data1 = pickle.load(file)\n",
    "\n",
    "data1"
   ]
  }
 ],
 "metadata": {
  "kernelspec": {
   "display_name": "Python 3 (ipykernel)",
   "language": "python",
   "name": "python3"
  },
  "language_info": {
   "codemirror_mode": {
    "name": "ipython",
    "version": 3
   },
   "file_extension": ".py",
   "mimetype": "text/x-python",
   "name": "python",
   "nbconvert_exporter": "python",
   "pygments_lexer": "ipython3",
   "version": "3.10.12"
  }
 },
 "nbformat": 4,
 "nbformat_minor": 5
}
